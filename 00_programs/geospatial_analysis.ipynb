{
 "cells": [
  {
   "cell_type": "markdown",
   "metadata": {},
   "source": [
    "# Reading the geospatial data"
   ]
  },
  {
   "cell_type": "code",
   "execution_count": 6,
   "metadata": {},
   "outputs": [
    {
     "data": {
      "text/html": [
       "<div>\n",
       "<style scoped>\n",
       "    .dataframe tbody tr th:only-of-type {\n",
       "        vertical-align: middle;\n",
       "    }\n",
       "\n",
       "    .dataframe tbody tr th {\n",
       "        vertical-align: top;\n",
       "    }\n",
       "\n",
       "    .dataframe thead th {\n",
       "        text-align: right;\n",
       "    }\n",
       "</style>\n",
       "<table border=\"1\" class=\"dataframe\">\n",
       "  <thead>\n",
       "    <tr style=\"text-align: right;\">\n",
       "      <th></th>\n",
       "      <th>geolocation_zip_code_prefix</th>\n",
       "      <th>geolocation_lat</th>\n",
       "      <th>geolocation_lng</th>\n",
       "      <th>geolocation_city</th>\n",
       "      <th>geolocation_state</th>\n",
       "      <th>geolocation_zip_code_prefix_1_digits</th>\n",
       "      <th>geolocation_zip_code_prefix_2_digits</th>\n",
       "      <th>geolocation_zip_code_prefix_3_digits</th>\n",
       "      <th>geolocation_zip_code_prefix_4_digits</th>\n",
       "    </tr>\n",
       "  </thead>\n",
       "  <tbody>\n",
       "    <tr>\n",
       "      <th>0</th>\n",
       "      <td>01037</td>\n",
       "      <td>-23.545621</td>\n",
       "      <td>-46.639292</td>\n",
       "      <td>sao paulo</td>\n",
       "      <td>SP</td>\n",
       "      <td>0</td>\n",
       "      <td>01</td>\n",
       "      <td>010</td>\n",
       "      <td>0103</td>\n",
       "    </tr>\n",
       "    <tr>\n",
       "      <th>1</th>\n",
       "      <td>01046</td>\n",
       "      <td>-23.546081</td>\n",
       "      <td>-46.644820</td>\n",
       "      <td>sao paulo</td>\n",
       "      <td>SP</td>\n",
       "      <td>0</td>\n",
       "      <td>01</td>\n",
       "      <td>010</td>\n",
       "      <td>0104</td>\n",
       "    </tr>\n",
       "    <tr>\n",
       "      <th>2</th>\n",
       "      <td>01046</td>\n",
       "      <td>-23.546129</td>\n",
       "      <td>-46.642951</td>\n",
       "      <td>sao paulo</td>\n",
       "      <td>SP</td>\n",
       "      <td>0</td>\n",
       "      <td>01</td>\n",
       "      <td>010</td>\n",
       "      <td>0104</td>\n",
       "    </tr>\n",
       "  </tbody>\n",
       "</table>\n",
       "</div>"
      ],
      "text/plain": [
       "  geolocation_zip_code_prefix  geolocation_lat  geolocation_lng  \\\n",
       "0                       01037       -23.545621       -46.639292   \n",
       "1                       01046       -23.546081       -46.644820   \n",
       "2                       01046       -23.546129       -46.642951   \n",
       "\n",
       "  geolocation_city geolocation_state geolocation_zip_code_prefix_1_digits  \\\n",
       "0        sao paulo                SP                                    0   \n",
       "1        sao paulo                SP                                    0   \n",
       "2        sao paulo                SP                                    0   \n",
       "\n",
       "  geolocation_zip_code_prefix_2_digits geolocation_zip_code_prefix_3_digits  \\\n",
       "0                                   01                                  010   \n",
       "1                                   01                                  010   \n",
       "2                                   01                                  010   \n",
       "\n",
       "  geolocation_zip_code_prefix_4_digits  \n",
       "0                                 0103  \n",
       "1                                 0104  \n",
       "2                                 0104  "
      ]
     },
     "execution_count": 6,
     "metadata": {},
     "output_type": "execute_result"
    }
   ],
   "source": [
    "import numpy as np\n",
    "import pandas as pd\n",
    "import os\n",
    "\n",
    "geo = pd.read_csv(\n",
    "    \"01_input/olist_geolocation_dataset.csv\",\n",
    "    dtype={\"geolocation_zip_code_prefix\": str},\n",
    ")\n",
    "\n",
    "# Gets the first three and four first digits of zip codes, we will explore this further to understand how zip codes works\n",
    "geo[\"geolocation_zip_code_prefix_1_digits\"] = geo[\"geolocation_zip_code_prefix\"].str[\n",
    "    0:1\n",
    "]\n",
    "geo[\"geolocation_zip_code_prefix_2_digits\"] = geo[\"geolocation_zip_code_prefix\"].str[\n",
    "    0:2\n",
    "]\n",
    "geo[\"geolocation_zip_code_prefix_3_digits\"] = geo[\"geolocation_zip_code_prefix\"].str[\n",
    "    0:3\n",
    "]\n",
    "geo[\"geolocation_zip_code_prefix_4_digits\"] = geo[\"geolocation_zip_code_prefix\"].str[\n",
    "    0:4\n",
    "]\n",
    "geo.head(3)"
   ]
  },
  {
   "cell_type": "markdown",
   "metadata": {},
   "source": []
  }
 ],
 "metadata": {
  "kernelspec": {
   "display_name": "Python 3",
   "language": "python",
   "name": "python3"
  },
  "language_info": {
   "codemirror_mode": {
    "name": "ipython",
    "version": 3
   },
   "file_extension": ".py",
   "mimetype": "text/x-python",
   "name": "python",
   "nbconvert_exporter": "python",
   "pygments_lexer": "ipython3",
   "version": "3.12.1"
  }
 },
 "nbformat": 4,
 "nbformat_minor": 2
}
