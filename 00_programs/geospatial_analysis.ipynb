{
 "cells": [
  {
   "cell_type": "markdown",
   "metadata": {},
   "source": [
    "# Reading the geospatial data"
   ]
  },
  {
   "cell_type": "code",
   "execution_count": 1,
   "metadata": {},
   "outputs": [
    {
     "data": {
      "text/html": [
       "<div>\n",
       "<style scoped>\n",
       "    .dataframe tbody tr th:only-of-type {\n",
       "        vertical-align: middle;\n",
       "    }\n",
       "\n",
       "    .dataframe tbody tr th {\n",
       "        vertical-align: top;\n",
       "    }\n",
       "\n",
       "    .dataframe thead th {\n",
       "        text-align: right;\n",
       "    }\n",
       "</style>\n",
       "<table border=\"1\" class=\"dataframe\">\n",
       "  <thead>\n",
       "    <tr style=\"text-align: right;\">\n",
       "      <th></th>\n",
       "      <th>geolocation_zip_code_prefix</th>\n",
       "      <th>geolocation_lat</th>\n",
       "      <th>geolocation_lng</th>\n",
       "      <th>geolocation_city</th>\n",
       "      <th>geolocation_state</th>\n",
       "      <th>geolocation_zip_code_prefix_1_digits</th>\n",
       "      <th>geolocation_zip_code_prefix_2_digits</th>\n",
       "      <th>geolocation_zip_code_prefix_3_digits</th>\n",
       "      <th>geolocation_zip_code_prefix_4_digits</th>\n",
       "    </tr>\n",
       "  </thead>\n",
       "  <tbody>\n",
       "    <tr>\n",
       "      <th>0</th>\n",
       "      <td>01037</td>\n",
       "      <td>-23.545621</td>\n",
       "      <td>-46.639292</td>\n",
       "      <td>sao paulo</td>\n",
       "      <td>SP</td>\n",
       "      <td>0</td>\n",
       "      <td>01</td>\n",
       "      <td>010</td>\n",
       "      <td>0103</td>\n",
       "    </tr>\n",
       "    <tr>\n",
       "      <th>1</th>\n",
       "      <td>01046</td>\n",
       "      <td>-23.546081</td>\n",
       "      <td>-46.644820</td>\n",
       "      <td>sao paulo</td>\n",
       "      <td>SP</td>\n",
       "      <td>0</td>\n",
       "      <td>01</td>\n",
       "      <td>010</td>\n",
       "      <td>0104</td>\n",
       "    </tr>\n",
       "    <tr>\n",
       "      <th>2</th>\n",
       "      <td>01046</td>\n",
       "      <td>-23.546129</td>\n",
       "      <td>-46.642951</td>\n",
       "      <td>sao paulo</td>\n",
       "      <td>SP</td>\n",
       "      <td>0</td>\n",
       "      <td>01</td>\n",
       "      <td>010</td>\n",
       "      <td>0104</td>\n",
       "    </tr>\n",
       "  </tbody>\n",
       "</table>\n",
       "</div>"
      ],
      "text/plain": [
       "  geolocation_zip_code_prefix  geolocation_lat  geolocation_lng  \\\n",
       "0                       01037       -23.545621       -46.639292   \n",
       "1                       01046       -23.546081       -46.644820   \n",
       "2                       01046       -23.546129       -46.642951   \n",
       "\n",
       "  geolocation_city geolocation_state geolocation_zip_code_prefix_1_digits  \\\n",
       "0        sao paulo                SP                                    0   \n",
       "1        sao paulo                SP                                    0   \n",
       "2        sao paulo                SP                                    0   \n",
       "\n",
       "  geolocation_zip_code_prefix_2_digits geolocation_zip_code_prefix_3_digits  \\\n",
       "0                                   01                                  010   \n",
       "1                                   01                                  010   \n",
       "2                                   01                                  010   \n",
       "\n",
       "  geolocation_zip_code_prefix_4_digits  \n",
       "0                                 0103  \n",
       "1                                 0104  \n",
       "2                                 0104  "
      ]
     },
     "execution_count": 1,
     "metadata": {},
     "output_type": "execute_result"
    }
   ],
   "source": [
    "import numpy as np\n",
    "import pandas as pd\n",
    "import os\n",
    "\n",
    "geo = pd.read_csv(\n",
    "    \"/Users/skronski/Documents/Projects/e_commerce/01_input/olist_geolocation_dataset.csv\",\n",
    "    dtype={\"geolocation_zip_code_prefix\": str},\n",
    ")\n",
    "\n",
    "# Gets the first three and four first digits of zip codes, we will explore this further to understand how zip codes works\n",
    "geo[\"geolocation_zip_code_prefix_1_digits\"] = geo[\"geolocation_zip_code_prefix\"].str[\n",
    "    0:1\n",
    "]\n",
    "geo[\"geolocation_zip_code_prefix_2_digits\"] = geo[\"geolocation_zip_code_prefix\"].str[\n",
    "    0:2\n",
    "]\n",
    "geo[\"geolocation_zip_code_prefix_3_digits\"] = geo[\"geolocation_zip_code_prefix\"].str[\n",
    "    0:3\n",
    "]\n",
    "geo[\"geolocation_zip_code_prefix_4_digits\"] = geo[\"geolocation_zip_code_prefix\"].str[\n",
    "    0:4\n",
    "]\n",
    "geo.head(3)"
   ]
  },
  {
   "cell_type": "code",
   "execution_count": null,
   "metadata": {},
   "outputs": [],
   "source": []
  },
  {
   "cell_type": "code",
   "execution_count": null,
   "metadata": {},
   "outputs": [],
   "source": []
  },
  {
   "cell_type": "code",
   "execution_count": 4,
   "metadata": {},
   "outputs": [
    {
     "ename": "ModuleNotFoundError",
     "evalue": "No module named 'geoviews'",
     "output_type": "error",
     "traceback": [
      "\u001b[0;31m---------------------------------------------------------------------------\u001b[0m",
      "\u001b[0;31mModuleNotFoundError\u001b[0m                       Traceback (most recent call last)",
      "\u001b[0;32m/var/folders/bp/g0l1cknn6yldw7z7xnwmbn_c0000gn/T/ipykernel_5727/958756011.py\u001b[0m in \u001b[0;36m<module>\u001b[0;34m\u001b[0m\n\u001b[1;32m      1\u001b[0m \u001b[0;31m# plot wtih holoviews + datashader - bokeh with map background\u001b[0m\u001b[0;34m\u001b[0m\u001b[0;34m\u001b[0m\u001b[0m\n\u001b[1;32m      2\u001b[0m \u001b[0;32mimport\u001b[0m \u001b[0mholoviews\u001b[0m \u001b[0;32mas\u001b[0m \u001b[0mhv\u001b[0m\u001b[0;34m\u001b[0m\u001b[0m\n\u001b[0;32m----> 3\u001b[0;31m \u001b[0;32mimport\u001b[0m \u001b[0mgeoviews\u001b[0m \u001b[0;32mas\u001b[0m \u001b[0mgv\u001b[0m\u001b[0;34m\u001b[0m\u001b[0m\n\u001b[0m\u001b[1;32m      4\u001b[0m \u001b[0;32mimport\u001b[0m \u001b[0mdatashader\u001b[0m \u001b[0;32mas\u001b[0m \u001b[0mds\u001b[0m\u001b[0;34m\u001b[0m\u001b[0m\n\u001b[1;32m      5\u001b[0m \u001b[0;32mfrom\u001b[0m \u001b[0mcolorcet\u001b[0m \u001b[0;32mimport\u001b[0m \u001b[0mfire\u001b[0m\u001b[0;34m,\u001b[0m \u001b[0mrainbow\u001b[0m\u001b[0;34m,\u001b[0m \u001b[0mbgy\u001b[0m\u001b[0;34m,\u001b[0m \u001b[0mbjy\u001b[0m\u001b[0;34m,\u001b[0m \u001b[0mbkr\u001b[0m\u001b[0;34m,\u001b[0m \u001b[0mkb\u001b[0m\u001b[0;34m,\u001b[0m \u001b[0mkr\u001b[0m\u001b[0;34m\u001b[0m\u001b[0m\n",
      "\u001b[0;31mModuleNotFoundError\u001b[0m: No module named 'geoviews'"
     ]
    }
   ],
   "source": [
    "# plot wtih holoviews + datashader - bokeh with map background\n",
    "import holoviews as hv\n",
    "import geoviews as gv\n",
    "import datashader as ds\n",
    "from colorcet import fire, rainbow, bgy, bjy, bkr, kb, kr\n",
    "from datashader.colors import colormap_select, Greys9\n",
    "from holoviews.streams import RangeXY\n",
    "from holoviews.operation.datashader import datashade, dynspread, rasterize\n",
    "from bokeh.io import push_notebook, show, output_notebook\n",
    "output_notebook()\n",
    "hv.extension('bokeh')\n",
    "\n",
    "%opts Overlay [width=800 height=600 toolbar='above' xaxis=None yaxis=None]\n",
    "%opts QuadMesh [tools=['hover'] colorbar=True] (alpha=0 hover_alpha=0.2)\n",
    "\n",
    "T = 0.05\n",
    "PX = 1\n",
    "\n",
    "def plot_map(data, label, agg_data, agg_name, cmap):\n",
    "    url=\"http://server.arcgisonline.com/ArcGIS/rest/services/Canvas/World_Dark_Gray_Base/MapServer/tile/{Z}/{Y}/{X}.png\"\n",
    "    geomap = gv.WMTS(url)\n",
    "    points = hv.Points(gv.Dataset(data, kdims=['x', 'y'], vdims=[agg_name]))\n",
    "    agg = datashade(points, element_type=gv.Image, aggregator=agg_data, cmap=cmap)\n",
    "    zip_codes = dynspread(agg, threshold=T, max_px=PX)\n",
    "    hover = hv.util.Dynamic(rasterize(points, aggregator=agg_data, width=50, height=25, streams=[RangeXY]), operation=hv.QuadMesh)\n",
    "    hover = hover.options(cmap=cmap)\n",
    "    img = geomap * zip_codes * hover\n",
    "    img = img.relabel(label)\n",
    "    return img"
   ]
  },
  {
   "cell_type": "markdown",
   "metadata": {},
   "source": []
  }
 ],
 "metadata": {
  "kernelspec": {
   "display_name": "Python 3",
   "language": "python",
   "name": "python3"
  },
  "language_info": {
   "codemirror_mode": {
    "name": "ipython",
    "version": 3
   },
   "file_extension": ".py",
   "mimetype": "text/x-python",
   "name": "python",
   "nbconvert_exporter": "python",
   "pygments_lexer": "ipython3",
   "version": "3.7.0"
  }
 },
 "nbformat": 4,
 "nbformat_minor": 2
}
