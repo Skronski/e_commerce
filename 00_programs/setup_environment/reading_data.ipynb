{
 "cells": [
  {
   "cell_type": "code",
   "execution_count": 1,
   "metadata": {},
   "outputs": [
    {
     "name": "stderr",
     "output_type": "stream",
     "text": [
      "/var/folders/bp/g0l1cknn6yldw7z7xnwmbn_c0000gn/T/ipykernel_5242/217941522.py:3: DeprecationWarning: \n",
      "Pyarrow will become a required dependency of pandas in the next major release of pandas (pandas 3.0),\n",
      "(to allow more performant data types, such as the Arrow string type, and better interoperability with other libraries)\n",
      "but was not found to be installed on your system.\n",
      "If this would cause problems for you,\n",
      "please provide us feedback at https://github.com/pandas-dev/pandas/issues/54466\n",
      "        \n",
      "  import pandas as pd\n"
     ]
    }
   ],
   "source": [
    "import os\n",
    "import glob\n",
    "import pandas as pd"
   ]
  },
  {
   "cell_type": "code",
   "execution_count": null,
   "metadata": {},
   "outputs": [],
   "source": [
    "def directories_path_setup(_project_name, _root):\n",
    "    \"\"\"function is making directories\n",
    "    _project_name: string (snake_case_convention)\n",
    "    _root: string, path where to put the project input output etc\n",
    "    \n",
    "    returns: \n",
    "    directores: dictionary with the path\"\"\"\n",
    "    directories = {\n",
    "        \"00_programs\": str(_root + '/'+ _project_name + '/' +\"00_programs\"),\n",
    "        \"01_input\": str(_root + '/'+ _project_name + '/' + \"01_input\"),\n",
    "        \"02_output\": str(_root + '/'+ _project_name + '/' + \"02_output\"),\n",
    "        \"03_temporary\": str(_root + '/'+ _project_name + '/' + \"03_temporary\")\n",
    "}"
   ]
  }
 ],
 "metadata": {
  "kernelspec": {
   "display_name": "Python 3",
   "language": "python",
   "name": "python3"
  },
  "language_info": {
   "codemirror_mode": {
    "name": "ipython",
    "version": 3
   },
   "file_extension": ".py",
   "mimetype": "text/x-python",
   "name": "python",
   "nbconvert_exporter": "python",
   "pygments_lexer": "ipython3",
   "version": "3.12.1"
  }
 },
 "nbformat": 4,
 "nbformat_minor": 2
}
