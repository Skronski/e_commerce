{
 "cells": [
  {
   "cell_type": "code",
   "execution_count": 31,
   "id": "72aef25c",
   "metadata": {
    "vscode": {
     "languageId": "r"
    }
   },
   "outputs": [],
   "source": [
    "# packages ----------------------------------------------------------------\n",
    "defaultW <- getOption(\"warn\") \n",
    "options(warn = -1) \n",
    "\n",
    "install.packages('lubridate')\n",
    "install.packages('dplyr')\n",
    "install.packages('ggplot2')\n",
    "install.packages('scales')\n",
    "install.packages('plyr')\n",
    "install.packages(\"arulesViz\")\n",
    "install.packages(\"arules\")\n",
    "\n",
    "\n",
    "library(lubridate)\n",
    "library(dplyr)\n",
    "library(scales)\n",
    "library(ggplot2)\n",
    "library(plyr)\n",
    "library(arulesViz)\n",
    "library(arules)\n",
    "\n"
   ]
  },
  {
   "cell_type": "code",
   "execution_count": 32,
   "id": "6f717f46",
   "metadata": {
    "vscode": {
     "languageId": "r"
    }
   },
   "outputs": [],
   "source": [
    "# funkcje -----------------------------------------------------------------\n",
    "\n",
    "'%!in%' <- function(x, y)\n",
    "  ! ('%in%'(x, y))\n",
    "\n"
   ]
  },
  {
   "cell_type": "code",
   "execution_count": 33,
   "id": "35f5961d",
   "metadata": {
    "vscode": {
     "languageId": "r"
    }
   },
   "outputs": [],
   "source": [
    "# import data -------------------------------------------------------------\n",
    "\n",
    "\n",
    "path <- 'D:\\\\Informatyka i ekonometria\\\\SGH'\n",
    "setwd(path)\n",
    "file_names <-\n",
    "  c(\n",
    "    'olist_customers_dataset',\n",
    "    'olist_order_items_dataset',\n",
    "    'olist_order_payments_dataset',\n",
    "    'olist_order_reviews_dataset',\n",
    "    'olist_orders_dataset',\n",
    "    'olist_products_dataset',\n",
    "    'olist_sellers_dataset',\n",
    "    'product_category_name_translation'\n",
    "  )\n",
    "\n",
    "for (i in 1:length(file_names))\n",
    "{\n",
    "  assign(paste0(file_names[i]), read.csv(\n",
    "    paste0(file_names[i], '.csv'),\n",
    "    na.strings = c('unknown', '', 'not_defined')\n",
    "  ))\n",
    "}\n"
   ]
  },
  {
   "cell_type": "code",
   "execution_count": 34,
   "id": "584cda4f",
   "metadata": {
    "vscode": {
     "languageId": "r"
    }
   },
   "outputs": [],
   "source": [
    "# usuwanie brakow danych ---------------------------------------------------------------\n",
    "\n",
    "olist_customers_dataset <-\n",
    "  olist_customers_dataset[complete.cases(olist_customers_dataset[c(\"customer_id\", \"customer_unique_id\")]),]\n",
    "olist_order_items_dataset <-\n",
    "  olist_order_items_dataset[complete.cases(olist_order_items_dataset[c('order_id', 'order_item_id', 'product_id', 'seller_id')]),]\n",
    "olist_order_payments_dataset <-\n",
    "  olist_order_payments_dataset[complete.cases(olist_order_payments_dataset['order_id']),]\n",
    "olist_order_reviews_dataset <-\n",
    "  olist_order_reviews_dataset[complete.cases(olist_order_reviews_dataset[c('review_id', 'order_id')]),]\n",
    "olist_orders_dataset <-\n",
    "  olist_orders_dataset[complete.cases(olist_orders_dataset[c(\"order_id\", \"customer_id\")]),]\n",
    "olist_products_dataset <-\n",
    "  olist_products_dataset[complete.cases(olist_products_dataset['product_id']),]\n",
    "olist_sellers_dataset <-\n",
    "  olist_sellers_dataset[complete.cases(olist_sellers_dataset['seller_id']),]\n",
    "\n",
    "\n",
    "product_category_name_translation[10, 2] <- \"alimentos_bebidas\"\n",
    "product_category_name_translation[17, 2] <-\n",
    "  \"fashion_bolsas_e_acessorios\"\n",
    "product_category_name_translation[46, 2] <- \"livros_interesse_geral\"\n",
    "product_category_name_translation[63, 2] <- \"flores\"\n",
    "\n",
    "product_category_name_translation[3, 3] <- \"automotive\"\n",
    "product_category_name_translation[13, 3] <-\n",
    "  \"tablets_impression_image\"\n",
    "product_category_name_translation[40, 3] <- \"living room furniture\"\n",
    "product_category_name_translation[53, 3] <- \"fashion_womens_clothes\"\n",
    "product_category_name_translation[58, 3] <- \"kitchen\"\n",
    "a = c(67, \"telefonia\", \"telephony\")\n",
    "b = c(68,\n",
    "      \"construcao_ferramentas_construcao\",\n",
    "      \"construction_tools_construction\")\n",
    "c = c(69, \"climatizacao\", \"air_conditioning\")\n",
    "d = c(70, \"musica\", \"music\")\n",
    "e = c(71, \"pc_gamer\", \"pc_gamer\")\n",
    "f = c(\n",
    "  72,\n",
    "  \"portateis_cozinha_e_preparadores_de_alimentos\",\n",
    "  \"kitchen_laptops_food_preparers\"\n",
    ")\n",
    "product_category_name_translation <-\n",
    "  rbind(product_category_name_translation, a, b, c, d, e, f)\n",
    "product_category_name_translation$X <-\n",
    "  as.integer(product_category_name_translation$X)\n"
   ]
  },
  {
   "cell_type": "code",
   "execution_count": 35,
   "id": "6c77003b",
   "metadata": {
    "vscode": {
     "languageId": "r"
    }
   },
   "outputs": [],
   "source": [
    "# formatowanie danych ----------------------------------------------------------\n",
    "\n",
    "\n",
    "olist_order_items_dataset$shipping_limit_date <-\n",
    "  as.POSIXlt(olist_order_items_dataset$shipping_limit_date)\n",
    "\n",
    "olist_order_reviews_dataset$review_creation_date <-\n",
    "  as.POSIXlt(olist_order_reviews_dataset$review_creation_date)\n",
    "olist_order_reviews_dataset$review_answer_timestamp <-\n",
    "  as.POSIXlt(olist_order_reviews_dataset$review_answer_timestamp)\n",
    "\n",
    "\n",
    "olist_orders_dataset$order_purchase_timestamp <-\n",
    "  as.POSIXct(olist_orders_dataset$order_purchase_timestamp)\n",
    "olist_orders_dataset$order_approved_at <-\n",
    "  as.POSIXlt(olist_orders_dataset$order_approved_at)\n",
    "olist_orders_dataset$order_delivered_carrier_date <-\n",
    "  as.POSIXlt(olist_orders_dataset$order_delivered_carrier_date)\n",
    "olist_orders_dataset$order_delivered_customer_date <-\n",
    "  as.POSIXlt(olist_orders_dataset$order_delivered_customer_date)\n",
    "olist_orders_dataset$order_estimated_delivery_date <-\n",
    "  as.POSIXlt(olist_orders_dataset$order_estimated_delivery_date)\n",
    "\n"
   ]
  },
  {
   "cell_type": "code",
   "execution_count": 36,
   "id": "200fac6d",
   "metadata": {
    "vscode": {
     "languageId": "r"
    }
   },
   "outputs": [],
   "source": [
    "# laczenie danych ---------------------------------------------------------\n",
    "\n",
    "x <-\n",
    "  olist_order_items_dataset %>% left_join(olist_orders_dataset, by = 'order_id')\n",
    "y <- x %>% left_join(olist_products_dataset, by = 'product_id')\n",
    "y <-\n",
    "  y %>% left_join(product_category_name_translation, by = 'product_category_name')\n",
    "\n",
    "y <- y[!is.na(y$product_category_name_english), ]"
   ]
  },
  {
   "cell_type": "code",
   "execution_count": 37,
   "id": "84c7e12b",
   "metadata": {
    "vscode": {
     "languageId": "r"
    }
   },
   "outputs": [
    {
     "data": {
      "image/png": "[encoded data removed]",
      "text/plain": [
       "plot without title"
      ]
     },
     "metadata": {
      "image/png": {
       "height": 420,
       "width": 420
      }
     },
     "output_type": "display_data"
    }
   ],
   "source": [
    "# szereg czasowy zakupionych produktow ------------------------------------\n",
    "\n",
    "szereg_czasowy_produktow <-\n",
    "  y %>% group_by(order_purchase_timestamp) %>% dplyr::summarise(liczba_produktow = n())\n",
    "szereg_czasowy_produktow <-  na.omit(szereg_czasowy_produktow)\n",
    "szereg_czasowy_produktow %>%\n",
    "  ggplot(aes(order_purchase_timestamp, liczba_produktow)) +\n",
    "  geom_line() +\n",
    "  theme(axis.text.x = element_text(angle = 90, hjust = 1)) +\n",
    "  scale_x_datetime(labels = date_format(\"%y-%m-%d\"))\n"
   ]
  },
  {
   "cell_type": "code",
   "execution_count": 38,
   "id": "ee929d60",
   "metadata": {
    "vscode": {
     "languageId": "r"
    }
   },
   "outputs": [
    {
     "data": {
      "image/png": "[encoded data removed]",
      "text/plain": [
       "plot without title"
      ]
     },
     "metadata": {
      "image/png": {
       "height": 420,
       "width": 420
      }
     },
     "output_type": "display_data"
    }
   ],
   "source": [
    "# szereg czasowy miesiecznej sprzedazy w 2017 ------------------------------------\n",
    "\n",
    "y %>% filter(year(order_purchase_timestamp) == 2017) %>% group_by(order_purchase_timestamp) %>%\n",
    "  dplyr::summarise(liczba_produktow = n()) %>%\n",
    "  ggplot(aes(order_purchase_timestamp, liczba_produktow)) + geom_line() +\n",
    "  facet_wrap(~ month(order_purchase_timestamp), scales = \"free_x\")"
   ]
  },
  {
   "cell_type": "code",
   "execution_count": 39,
   "id": "3e8be9c7",
   "metadata": {
    "vscode": {
     "languageId": "r"
    }
   },
   "outputs": [],
   "source": [
    "# TOP 10 produktow ------------------------------------------------------------------\n",
    "\n",
    "s <- y %>%\n",
    "  filter(!is.na(product_category_name_english)) %>%\n",
    "  group_by(product_category_name_english) %>%\n",
    "  dplyr::summarise(liczba_sprzedazy = n()) %>% arrange(desc(liczba_sprzedazy)) %>%\n",
    "  top_n(liczba_sprzedazy, n = 10)\n"
   ]
  },
  {
   "cell_type": "code",
   "execution_count": 40,
   "id": "583205e8",
   "metadata": {
    "vscode": {
     "languageId": "r"
    }
   },
   "outputs": [
    {
     "data": {
      "image/png": "[encoded data removed]",
      "text/plain": [
       "plot without title"
      ]
     },
     "metadata": {
      "image/png": {
       "height": 420,
       "width": 420
      }
     },
     "output_type": "display_data"
    }
   ],
   "source": [
    "# analiza koszykowa -----------------------------------------------------------------\n",
    "defaultW <- getOption(\"warn\") \n",
    "options(warn = -1) \n",
    "\n",
    "\n",
    "u <- y[, c(\"order_id\", \"product_category_name_english\")]\n",
    "itemList <-\n",
    "  ddply(u, c(\"order_id\"), function(df1)\n",
    "    paste(df1$product_category_name_english, collapse = \",\"))\n",
    "\n",
    "itemList$order_id <- NULL\n",
    "colnames(itemList) <- c(\"items\")\n",
    "write.csv(itemList,\n",
    "          file = \"market_basket.csv\",\n",
    "          row.names = F,\n",
    "          quote = F)\n",
    "\n",
    "\n",
    "tr = read.transactions(\"market_basket.csv\", format = \"basket\", sep = \",\")\n",
    "\n",
    "itemFrequencyPlot(tr, topN = 20, type = \"absolute\")\n"
   ]
  },
  {
   "cell_type": "code",
   "execution_count": 42,
   "id": "bd5a1ab2",
   "metadata": {
    "vscode": {
     "languageId": "r"
    }
   },
   "outputs": [
    {
     "name": "stdout",
     "output_type": "stream",
     "text": [
      "Apriori\n",
      "\n",
      "Parameter specification:\n",
      " confidence minval smax arem  aval originalSupport maxtime support minlen\n",
      "      1e-04    0.1    1 none FALSE            TRUE       5   1e-05      1\n",
      " maxlen target  ext\n",
      "     10  rules TRUE\n",
      "\n",
      "Algorithmic control:\n",
      " filter tree heap memopt load sort verbose\n",
      "    0.1 TRUE TRUE  FALSE TRUE    2    TRUE\n",
      "\n",
      "Absolute minimum support count: 0 \n",
      "\n",
      "set item appearances ...[0 item(s)] done [0.00s].\n",
      "set transactions ...[74 item(s), 75432 transaction(s)] done [0.01s].\n",
      "sorting and recoding items ... [74 item(s)] done [0.00s].\n",
      "creating transaction tree ... done [0.01s].\n",
      "checking subsets of size 1 2 3 done [0.00s].\n",
      "writing ... [466 rule(s)] done [0.00s].\n",
      "creating S4 object  ... done [0.00s].\n"
     ]
    },
    {
     "data": {
      "image/png": "[encoded data removed]",
      "text/plain": [
       "plot without title"
      ]
     },
     "metadata": {
      "image/png": {
       "height": 420,
       "width": 420
      }
     },
     "output_type": "display_data"
    }
   ],
   "source": [
    "\n",
    "# algorytm a priori -------------------------------------------------------\n",
    "rules = apriori(tr\n",
    "                , parameter = list(\n",
    "                  supp = 0.00001,\n",
    "                  conf = 0.0001,\n",
    "                  target = \"rules\"\n",
    "                ))\n",
    "plot(head(sort(rules, by = \"lift\"), 10),\n",
    "     method = \"graph\")"
   ]
  },
  {
   "cell_type": "code",
   "execution_count": 19,
   "id": "4b11a588",
   "metadata": {
    "vscode": {
     "languageId": "r"
    }
   },
   "outputs": [
    {
     "name": "stdout",
     "output_type": "stream",
     "text": [
      "     lhs                            rhs                             support confidence     coverage       lift count\n",
      "[1]  {cine_photo,                                                                                                   \n",
      "      cool_stuff}                => {telephony}                1.325697e-05  1.0000000 1.325697e-05  23.195572     1\n",
      "[2]  {cine_photo,                                                                                                   \n",
      "      telephony}                 => {cool_stuff}               1.325697e-05  1.0000000 1.325697e-05  27.202308     1\n",
      "[3]  {market_place,                                                                                                 \n",
      "      perfumery}                 => {bed_bath_table}           1.325697e-05  1.0000000 1.325697e-05   9.940959     1\n",
      "[4]  {bed_bath_table,                                                                                               \n",
      "      perfumery}                 => {market_place}             1.325697e-05  1.0000000 1.325697e-05 335.253333     1\n",
      "[5]  {cool_stuff,                                                                                                   \n",
      "      home_construction}         => {computers_accessories}    1.325697e-05  1.0000000 1.325697e-05  16.138639     1\n",
      "[6]  {computers_accessories,                                                                                        \n",
      "      home_construction}         => {cool_stuff}               1.325697e-05  1.0000000 1.325697e-05  27.202308     1\n",
      "[7]  {fashion_bags_accessories,                                                                                     \n",
      "      musical_instruments}       => {automotive}               1.325697e-05  1.0000000 1.325697e-05  25.202807     1\n",
      "[8]  {automotive,                                                                                                   \n",
      "      musical_instruments}       => {fashion_bags_accessories} 1.325697e-05  1.0000000 1.325697e-05  51.314286     1\n",
      "[9]  {automotive,                                                                                                   \n",
      "      fashion_bags_accessories}  => {musical_instruments}      1.325697e-05  1.0000000 1.325697e-05 154.891170     1\n",
      "[10] {automotive,                                                                                                   \n",
      "      bed_bath_table}            => {cool_stuff}               1.325697e-05  1.0000000 1.325697e-05  27.202308     1\n",
      "[11] {housewares,                                                                                                   \n",
      "      watches_gifts}             => {furniture_decor}          1.325697e-05  1.0000000 1.325697e-05  14.392673     1\n",
      "[12] {computers_accessories,                                                                                        \n",
      "      sports_leisure}            => {health_beauty}            1.325697e-05  1.0000000 1.325697e-05  10.766771     1\n",
      "[13] {computers_accessories,                                                                                        \n",
      "      health_beauty}             => {sports_leisure}           1.325697e-05  1.0000000 1.325697e-05  12.536480     1\n",
      "[14] {bed_bath_table,                                                                                               \n",
      "      market_place}              => {perfumery}                1.325697e-05  0.5000000 2.651395e-05  15.038278     1\n",
      "[15] {computers_accessories,                                                                                        \n",
      "      cool_stuff}                => {home_construction}        1.325697e-05  0.5000000 2.651395e-05 100.844920     1\n",
      "[16] {automotive,                                                                                                   \n",
      "      cool_stuff}                => {bed_bath_table}           1.325697e-05  0.5000000 2.651395e-05   4.970480     1\n",
      "[17] {fashion_childrens_clothes} => {fashion_bags_accessories} 1.325697e-05  0.2000000 6.628487e-05  10.262857     1\n",
      "[18] {furniture_decor,                                                                                              \n",
      "      watches_gifts}             => {housewares}               1.325697e-05  0.2000000 6.628487e-05   3.219462     1\n",
      "[19] {cool_stuff,                                                                                                   \n",
      "      telephony}                 => {cine_photo}               1.325697e-05  0.1666667 7.954184e-05 228.581818     1\n",
      "[20] {bed_bath_table,                                                                                               \n",
      "      cool_stuff}                => {baby}                     1.325697e-05  0.1666667 7.954184e-05   5.647799     1\n"
     ]
    },
    {
     "data": {
      "text/plain": [
       "NULL"
      ]
     },
     "metadata": {},
     "output_type": "display_data"
    },
    {
     "data": {
      "image/png": "[encoded data removed]",
      "text/plain": [
       "plot without title"
      ]
     },
     "metadata": {
      "image/png": {
       "height": 420,
       "width": 420
      }
     },
     "output_type": "display_data"
    }
   ],
   "source": [
    "topRules = sort(rules, by = \"confidence\")[1:20]\n",
    "\n",
    "head(inspect(topRules))\n",
    "\n",
    "plot(topRules, method = \"graph\")\n",
    "\n"
   ]
  },
  {
   "cell_type": "code",
   "execution_count": 43,
   "id": "0b7192fa",
   "metadata": {
    "vscode": {
     "languageId": "r"
    }
   },
   "outputs": [
    {
     "data": {
      "text/html": [
       "<table class=\"dataframe\">\n",
       "<caption>A data.frame: 6 × 7</caption>\n",
       "<thead>\n",
       "\t<tr><th></th><th scope=col>LHS</th><th scope=col>RHS</th><th scope=col>support</th><th scope=col>confidence</th><th scope=col>coverage</th><th scope=col>lift</th><th scope=col>count</th></tr>\n",
       "\t<tr><th></th><th scope=col>&lt;fct&gt;</th><th scope=col>&lt;fct&gt;</th><th scope=col>&lt;dbl&gt;</th><th scope=col>&lt;dbl&gt;</th><th scope=col>&lt;dbl&gt;</th><th scope=col>&lt;dbl&gt;</th><th scope=col>&lt;int&gt;</th></tr>\n",
       "</thead>\n",
       "<tbody>\n",
       "\t<tr><th scope=row>72</th><td>fashion_childrens_clothes</td><td>fashion_bags_accessories </td><td>1.325697e-05</td><td>0.2000000000</td><td>6.628487e-05</td><td>10.262857</td><td>1</td></tr>\n",
       "\t<tr><th scope=row>73</th><td>fashion_bags_accessories </td><td>fashion_childrens_clothes</td><td>1.325697e-05</td><td>0.0006802721</td><td>1.948775e-02</td><td>10.262857</td><td>1</td></tr>\n",
       "\t<tr><th scope=row>74</th><td>pc_gamer                 </td><td>cool_stuff               </td><td>1.325697e-05</td><td>0.1250000000</td><td>1.060558e-04</td><td> 3.400288</td><td>1</td></tr>\n",
       "\t<tr><th scope=row>75</th><td>cool_stuff               </td><td>pc_gamer                 </td><td>1.325697e-05</td><td>0.0003606203</td><td>3.676159e-02</td><td> 3.400288</td><td>1</td></tr>\n",
       "\t<tr><th scope=row>76</th><td>fashion_sport            </td><td>fashion_bags_accessories </td><td>1.325697e-05</td><td>0.0476190476</td><td>2.783964e-04</td><td> 2.443537</td><td>1</td></tr>\n",
       "\t<tr><th scope=row>77</th><td>fashion_bags_accessories </td><td>fashion_sport            </td><td>1.325697e-05</td><td>0.0006802721</td><td>1.948775e-02</td><td> 2.443537</td><td>1</td></tr>\n",
       "</tbody>\n",
       "</table>\n"
      ],
      "text/latex": [
       "A data.frame: 6 × 7\n",
       "\\begin{tabular}{r|lllllll}\n",
       "  & LHS & RHS & support & confidence & coverage & lift & count\\\\\n",
       "  & <fct> & <fct> & <dbl> & <dbl> & <dbl> & <dbl> & <int>\\\\\n",
       "\\hline\n",
       "\t72 & fashion\\_childrens\\_clothes & fashion\\_bags\\_accessories  & 1.325697e-05 & 0.2000000000 & 6.628487e-05 & 10.262857 & 1\\\\\n",
       "\t73 & fashion\\_bags\\_accessories  & fashion\\_childrens\\_clothes & 1.325697e-05 & 0.0006802721 & 1.948775e-02 & 10.262857 & 1\\\\\n",
       "\t74 & pc\\_gamer                  & cool\\_stuff                & 1.325697e-05 & 0.1250000000 & 1.060558e-04 &  3.400288 & 1\\\\\n",
       "\t75 & cool\\_stuff                & pc\\_gamer                  & 1.325697e-05 & 0.0003606203 & 3.676159e-02 &  3.400288 & 1\\\\\n",
       "\t76 & fashion\\_sport             & fashion\\_bags\\_accessories  & 1.325697e-05 & 0.0476190476 & 2.783964e-04 &  2.443537 & 1\\\\\n",
       "\t77 & fashion\\_bags\\_accessories  & fashion\\_sport             & 1.325697e-05 & 0.0006802721 & 1.948775e-02 &  2.443537 & 1\\\\\n",
       "\\end{tabular}\n"
      ],
      "text/markdown": [
       "\n",
       "A data.frame: 6 × 7\n",
       "\n",
       "| <!--/--> | LHS &lt;fct&gt; | RHS &lt;fct&gt; | support &lt;dbl&gt; | confidence &lt;dbl&gt; | coverage &lt;dbl&gt; | lift &lt;dbl&gt; | count &lt;int&gt; |\n",
       "|---|---|---|---|---|---|---|---|\n",
       "| 72 | fashion_childrens_clothes | fashion_bags_accessories  | 1.325697e-05 | 0.2000000000 | 6.628487e-05 | 10.262857 | 1 |\n",
       "| 73 | fashion_bags_accessories  | fashion_childrens_clothes | 1.325697e-05 | 0.0006802721 | 1.948775e-02 | 10.262857 | 1 |\n",
       "| 74 | pc_gamer                  | cool_stuff                | 1.325697e-05 | 0.1250000000 | 1.060558e-04 |  3.400288 | 1 |\n",
       "| 75 | cool_stuff                | pc_gamer                  | 1.325697e-05 | 0.0003606203 | 3.676159e-02 |  3.400288 | 1 |\n",
       "| 76 | fashion_sport             | fashion_bags_accessories  | 1.325697e-05 | 0.0476190476 | 2.783964e-04 |  2.443537 | 1 |\n",
       "| 77 | fashion_bags_accessories  | fashion_sport             | 1.325697e-05 | 0.0006802721 | 1.948775e-02 |  2.443537 | 1 |\n",
       "\n"
      ],
      "text/plain": [
       "   LHS                       RHS                       support     \n",
       "72 fashion_childrens_clothes fashion_bags_accessories  1.325697e-05\n",
       "73 fashion_bags_accessories  fashion_childrens_clothes 1.325697e-05\n",
       "74 pc_gamer                  cool_stuff                1.325697e-05\n",
       "75 cool_stuff                pc_gamer                  1.325697e-05\n",
       "76 fashion_sport             fashion_bags_accessories  1.325697e-05\n",
       "77 fashion_bags_accessories  fashion_sport             1.325697e-05\n",
       "   confidence   coverage     lift      count\n",
       "72 0.2000000000 6.628487e-05 10.262857 1    \n",
       "73 0.0006802721 1.948775e-02 10.262857 1    \n",
       "74 0.1250000000 1.060558e-04  3.400288 1    \n",
       "75 0.0003606203 3.676159e-02  3.400288 1    \n",
       "76 0.0476190476 2.783964e-04  2.443537 1    \n",
       "77 0.0006802721 1.948775e-02  2.443537 1    "
      ]
     },
     "metadata": {},
     "output_type": "display_data"
    }
   ],
   "source": [
    "df <- DATAFRAME(rules,\n",
    "                separate = TRUE,\n",
    "                setStart = \"\",\n",
    "                setEnd = \"\")\n",
    "o <- df[order(-df$count), ]\n",
    "\n",
    "o <- df[df$LHS %!in% c(''), ]\n",
    "head(o)"
   ]
  },
  {
   "cell_type": "code",
   "execution_count": 44,
   "id": "e438705f",
   "metadata": {
    "vscode": {
     "languageId": "r"
    }
   },
   "outputs": [
    {
     "data": {
      "image/png": "[encoded data removed]",
      "text/plain": [
       "plot without title"
      ]
     },
     "metadata": {
      "image/png": {
       "height": 420,
       "width": 420
      }
     },
     "output_type": "display_data"
    }
   ],
   "source": [
    "# dla black week ----------------------------------------------------------\n",
    "defaultW <- getOption(\"warn\") \n",
    "options(warn = -1) \n",
    "\n",
    "\n",
    "black_week <-\n",
    "  y %>% filter(between(\n",
    "    order_purchase_timestamp,\n",
    "    as.POSIXct(\"2017-11-19\"),\n",
    "    as.POSIXct(\"2017-11-26\")\n",
    "  ))\n",
    "\n",
    "u <- black_week[, c(\"order_id\", \"product_category_name_english\")]\n",
    "\n",
    "itemList <-\n",
    "  ddply(u, c(\"order_id\"), function(df1)\n",
    "    paste(df1$product_category_name_english, collapse = \",\"))\n",
    "\n",
    "\n",
    "itemList$order_id <- NULL\n",
    "colnames(itemList) <- c(\"items\")\n",
    "write.csv(itemList,\n",
    "          file = \"black_week.csv\",\n",
    "          row.names = F,\n",
    "          quote = F)\n",
    "\n",
    "tr = read.transactions(\"black_week.csv\", format = \"basket\", sep = \",\")\n",
    "itemFrequencyPlot(tr, topN = 20, type = \"absolute\")\n"
   ]
  },
  {
   "cell_type": "code",
   "execution_count": 45,
   "id": "c14c9080",
   "metadata": {
    "vscode": {
     "languageId": "r"
    }
   },
   "outputs": [
    {
     "name": "stdout",
     "output_type": "stream",
     "text": [
      "Apriori\n",
      "\n",
      "Parameter specification:\n",
      " confidence minval smax arem  aval originalSupport maxtime support minlen\n",
      "      0.001    0.1    1 none FALSE            TRUE       5   1e-04      1\n",
      " maxlen target  ext\n",
      "     10  rules TRUE\n",
      "\n",
      "Algorithmic control:\n",
      " filter tree heap memopt load sort verbose\n",
      "    0.1 TRUE TRUE  FALSE TRUE    2    TRUE\n",
      "\n",
      "Absolute minimum support count: 0 \n",
      "\n",
      "set item appearances ...[0 item(s)] done [0.00s].\n",
      "set transactions ...[52 item(s), 2036 transaction(s)] done [0.00s].\n",
      "sorting and recoding items ... [52 item(s)] done [0.00s].\n",
      "creating transaction tree ... done [0.00s].\n",
      "checking subsets of size 1 2 done [0.00s].\n",
      "writing ... [57 rule(s)] done [0.00s].\n",
      "creating S4 object  ... done [0.00s].\n"
     ]
    },
    {
     "data": {
      "image/png": "[encoded data removed]",
      "text/plain": [
       "plot without title"
      ]
     },
     "metadata": {
      "image/png": {
       "height": 420,
       "width": 420
      }
     },
     "output_type": "display_data"
    }
   ],
   "source": [
    "defaultW <- getOption(\"warn\") \n",
    "options(warn = -1) \n",
    "\n",
    "rules = apriori(tr\n",
    "                , parameter = list(\n",
    "                  supp = 0.0001,\n",
    "                  conf = 0.001,\n",
    "                  target = \"rules\"\n",
    "                ))\n",
    "plot(sort(rules, by = \"lift\"),\n",
    "     method = \"graph\")"
   ]
  },
  {
   "cell_type": "code",
   "execution_count": 46,
   "id": "0ee137a8",
   "metadata": {
    "vscode": {
     "languageId": "r"
    }
   },
   "outputs": [
    {
     "name": "stdout",
     "output_type": "stream",
     "text": [
      "     lhs               rhs                        support      confidence\n",
      "[1]  {home_confort} => {bed_bath_table}           0.0009823183 0.18181818\n",
      "[2]  {}             => {bed_bath_table}           0.1272102161 0.12721022\n",
      "[3]  {home_confort} => {furniture_decor}          0.0004911591 0.09090909\n",
      "[4]  {}             => {furniture_decor}          0.0830058939 0.08300589\n",
      "[5]  {}             => {health_beauty}            0.0790766208 0.07907662\n",
      "[6]  {}             => {sports_leisure}           0.0692534381 0.06925344\n",
      "[7]  {}             => {toys}                     0.0623772102 0.06237721\n",
      "[8]  {}             => {housewares}               0.0545186640 0.05451866\n",
      "[9]  {}             => {computers_accessories}    0.0530451866 0.05304519\n",
      "[10] {}             => {telephony}                0.0525540275 0.05255403\n",
      "[11] {}             => {garden_tools}             0.0520628684 0.05206287\n",
      "[12] {}             => {watches_gifts}            0.0432220039 0.04322200\n",
      "[13] {}             => {perfumery}                0.0422396857 0.04223969\n",
      "[14] {}             => {automotive}               0.0348722986 0.03487230\n",
      "[15] {}             => {fashion_bags_accessories} 0.0314341847 0.03143418\n",
      "[16] {}             => {cool_stuff}               0.0275049116 0.02750491\n",
      "[17] {}             => {consoles_games}           0.0255402750 0.02554028\n",
      "[18] {stationery}   => {toys}                     0.0004911591 0.02500000\n",
      "[19] {}             => {baby}                     0.0216110020 0.02161100\n",
      "[20] {}             => {electronics}              0.0211198428 0.02111984\n",
      "     coverage   lift      count\n",
      "[1]  0.00540275 1.4292734   2  \n",
      "[2]  1.00000000 1.0000000 259  \n",
      "[3]  0.00540275 1.0952125   1  \n",
      "[4]  1.00000000 1.0000000 169  \n",
      "[5]  1.00000000 1.0000000 161  \n",
      "[6]  1.00000000 1.0000000 141  \n",
      "[7]  1.00000000 1.0000000 127  \n",
      "[8]  1.00000000 1.0000000 111  \n",
      "[9]  1.00000000 1.0000000 108  \n",
      "[10] 1.00000000 1.0000000 107  \n",
      "[11] 1.00000000 1.0000000 106  \n",
      "[12] 1.00000000 1.0000000  88  \n",
      "[13] 1.00000000 1.0000000  86  \n",
      "[14] 1.00000000 1.0000000  71  \n",
      "[15] 1.00000000 1.0000000  64  \n",
      "[16] 1.00000000 1.0000000  56  \n",
      "[17] 1.00000000 1.0000000  52  \n",
      "[18] 0.01964637 0.4007874   1  \n",
      "[19] 1.00000000 1.0000000  44  \n",
      "[20] 1.00000000 1.0000000  43  \n"
     ]
    }
   ],
   "source": [
    "topRules = sort(rules, by = \"confidence\")[1:20]\n",
    "\n",
    "inspect(topRules)\n"
   ]
  },
  {
   "cell_type": "code",
   "execution_count": 47,
   "id": "0738e22a",
   "metadata": {
    "vscode": {
     "languageId": "r"
    }
   },
   "outputs": [
    {
     "data": {
      "image/png": "[encoded data removed]",
      "text/plain": [
       "plot without title"
      ]
     },
     "metadata": {
      "image/png": {
       "height": 420,
       "width": 420
      }
     },
     "output_type": "display_data"
    }
   ],
   "source": [
    "plot(topRules, method = \"graph\")"
   ]
  },
  {
   "cell_type": "code",
   "execution_count": 48,
   "id": "125c2a7c",
   "metadata": {
    "vscode": {
     "languageId": "r"
    }
   },
   "outputs": [
    {
     "name": "stdout",
     "output_type": "stream",
     "text": [
      "     lhs                  rhs                                      \n",
      "[1]  {}                => {books_technical}                        \n",
      "[2]  {}                => {construction_tools_lights}              \n",
      "[3]  {}                => {food}                                   \n",
      "[4]  {}                => {construction_tools_safety}              \n",
      "[5]  {}                => {tablets_impression_image}               \n",
      "[6]  {}                => {agro_industry_and_commerce}             \n",
      "[7]  {}                => {home_appliances_2}                      \n",
      "[8]  {}                => {home_appliances}                        \n",
      "[9]  {}                => {air_conditioning}                       \n",
      "[10] {}                => {food_drink}                             \n",
      "[11] {}                => {fashion_shoes}                          \n",
      "[12] {}                => {books_general_interest}                 \n",
      "[13] {}                => {office_furniture}                       \n",
      "[14] {}                => {home_construction}                      \n",
      "[15] {}                => {kitchen_dining_laundry_garden_furniture}\n",
      "[16] {}                => {audio}                                  \n",
      "[17] {}                => {living room furniture}                  \n",
      "[18] {}                => {luggage_accessories}                    \n",
      "[19] {}                => {small_appliances}                       \n",
      "[20] {}                => {construction_tools_construction}        \n",
      "[21] {}                => {home_confort}                           \n",
      "[22] {}                => {musical_instruments}                    \n",
      "[23] {}                => {pet_shop}                               \n",
      "[24] {}                => {stationery}                             \n",
      "[25] {}                => {electronics}                            \n",
      "[26] {}                => {baby}                                   \n",
      "[27] {}                => {consoles_games}                         \n",
      "[28] {}                => {cool_stuff}                             \n",
      "[29] {}                => {fashion_bags_accessories}               \n",
      "[30] {}                => {automotive}                             \n",
      "[31] {}                => {perfumery}                              \n",
      "[32] {}                => {watches_gifts}                          \n",
      "[33] {}                => {garden_tools}                           \n",
      "[34] {}                => {telephony}                              \n",
      "[35] {}                => {computers_accessories}                  \n",
      "[36] {}                => {housewares}                             \n",
      "[37] {}                => {toys}                                   \n",
      "[38] {}                => {sports_leisure}                         \n",
      "[39] {}                => {health_beauty}                          \n",
      "[40] {}                => {furniture_decor}                        \n",
      "[41] {}                => {bed_bath_table}                         \n",
      "[42] {home_confort}    => {furniture_decor}                        \n",
      "[43] {furniture_decor} => {home_confort}                           \n",
      "[44] {home_confort}    => {bed_bath_table}                         \n",
      "[45] {bed_bath_table}  => {home_confort}                           \n",
      "[46] {stationery}      => {toys}                                   \n",
      "[47] {toys}            => {stationery}                             \n",
      "[48] {consoles_games}  => {automotive}                             \n",
      "[49] {automotive}      => {consoles_games}                         \n",
      "[50] {cool_stuff}      => {telephony}                              \n",
      "[51] {telephony}       => {cool_stuff}                             \n",
      "[52] {garden_tools}    => {housewares}                             \n",
      "[53] {housewares}      => {garden_tools}                           \n",
      "[54] {housewares}      => {sports_leisure}                         \n",
      "[55] {sports_leisure}  => {housewares}                             \n",
      "[56] {furniture_decor} => {bed_bath_table}                         \n",
      "[57] {bed_bath_table}  => {furniture_decor}                        \n",
      "     support      confidence  coverage   lift       count\n",
      "[1]  0.0014734774 0.001473477 1.00000000 1.00000000   3  \n",
      "[2]  0.0014734774 0.001473477 1.00000000 1.00000000   3  \n",
      "[3]  0.0014734774 0.001473477 1.00000000 1.00000000   3  \n",
      "[4]  0.0014734774 0.001473477 1.00000000 1.00000000   3  \n",
      "[5]  0.0014734774 0.001473477 1.00000000 1.00000000   3  \n",
      "[6]  0.0019646365 0.001964637 1.00000000 1.00000000   4  \n",
      "[7]  0.0019646365 0.001964637 1.00000000 1.00000000   4  \n",
      "[8]  0.0024557957 0.002455796 1.00000000 1.00000000   5  \n",
      "[9]  0.0029469548 0.002946955 1.00000000 1.00000000   6  \n",
      "[10] 0.0034381139 0.003438114 1.00000000 1.00000000   7  \n",
      "[11] 0.0039292731 0.003929273 1.00000000 1.00000000   8  \n",
      "[12] 0.0044204322 0.004420432 1.00000000 1.00000000   9  \n",
      "[13] 0.0044204322 0.004420432 1.00000000 1.00000000   9  \n",
      "[14] 0.0049115914 0.004911591 1.00000000 1.00000000  10  \n",
      "[15] 0.0049115914 0.004911591 1.00000000 1.00000000  10  \n",
      "[16] 0.0049115914 0.004911591 1.00000000 1.00000000  10  \n",
      "[17] 0.0054027505 0.005402750 1.00000000 1.00000000  11  \n",
      "[18] 0.0058939096 0.005893910 1.00000000 1.00000000  12  \n",
      "[19] 0.0063850688 0.006385069 1.00000000 1.00000000  13  \n",
      "[20] 0.0068762279 0.006876228 1.00000000 1.00000000  14  \n",
      "[21] 0.0054027505 0.005402750 1.00000000 1.00000000  11  \n",
      "[22] 0.0068762279 0.006876228 1.00000000 1.00000000  14  \n",
      "[23] 0.0117878193 0.011787819 1.00000000 1.00000000  24  \n",
      "[24] 0.0196463654 0.019646365 1.00000000 1.00000000  40  \n",
      "[25] 0.0211198428 0.021119843 1.00000000 1.00000000  43  \n",
      "[26] 0.0216110020 0.021611002 1.00000000 1.00000000  44  \n",
      "[27] 0.0255402750 0.025540275 1.00000000 1.00000000  52  \n",
      "[28] 0.0275049116 0.027504912 1.00000000 1.00000000  56  \n",
      "[29] 0.0314341847 0.031434185 1.00000000 1.00000000  64  \n",
      "[30] 0.0348722986 0.034872299 1.00000000 1.00000000  71  \n",
      "[31] 0.0422396857 0.042239686 1.00000000 1.00000000  86  \n",
      "[32] 0.0432220039 0.043222004 1.00000000 1.00000000  88  \n",
      "[33] 0.0520628684 0.052062868 1.00000000 1.00000000 106  \n",
      "[34] 0.0525540275 0.052554028 1.00000000 1.00000000 107  \n",
      "[35] 0.0530451866 0.053045187 1.00000000 1.00000000 108  \n",
      "[36] 0.0545186640 0.054518664 1.00000000 1.00000000 111  \n",
      "[37] 0.0623772102 0.062377210 1.00000000 1.00000000 127  \n",
      "[38] 0.0692534381 0.069253438 1.00000000 1.00000000 141  \n",
      "[39] 0.0790766208 0.079076621 1.00000000 1.00000000 161  \n",
      "[40] 0.0830058939 0.083005894 1.00000000 1.00000000 169  \n",
      "[41] 0.1272102161 0.127210216 1.00000000 1.00000000 259  \n",
      "[42] 0.0004911591 0.090909091 0.00540275 1.09521248   1  \n",
      "[43] 0.0004911591 0.005917160 0.08300589 1.09521248   1  \n",
      "[44] 0.0009823183 0.181818182 0.00540275 1.42927343   2  \n",
      "[45] 0.0009823183 0.007722008 0.12721022 1.42927343   2  \n",
      "[46] 0.0004911591 0.025000000 0.01964637 0.40078740   1  \n",
      "[47] 0.0004911591 0.007874016 0.06237721 0.40078740   1  \n",
      "[48] 0.0004911591 0.019230769 0.02554028 0.55146262   1  \n",
      "[49] 0.0004911591 0.014084507 0.03487230 0.55146262   1  \n",
      "[50] 0.0004911591 0.017857143 0.02750491 0.33978638   1  \n",
      "[51] 0.0004911591 0.009345794 0.05255403 0.33978638   1  \n",
      "[52] 0.0004911591 0.009433962 0.05206287 0.17304097   1  \n",
      "[53] 0.0004911591 0.009009009 0.05451866 0.17304097   1  \n",
      "[54] 0.0004911591 0.009009009 0.05451866 0.13008753   1  \n",
      "[55] 0.0004911591 0.007092199 0.06925344 0.13008753   1  \n",
      "[56] 0.0009823183 0.011834320 0.08300589 0.09302963   2  \n",
      "[57] 0.0009823183 0.007722008 0.12721022 0.09302963   2  \n"
     ]
    }
   ],
   "source": [
    "inspect(rules)\n",
    "df <- DATAFRAME(rules,\n",
    "                separate = TRUE,\n",
    "                setStart = \"\",\n",
    "                setEnd = \"\")\n",
    "bw <- df[order(-df$count), ]\n",
    "\n",
    "bw <- df[df$LHS %!in% c(''), ]"
   ]
  },
  {
   "cell_type": "code",
   "execution_count": 49,
   "id": "15d53177",
   "metadata": {
    "vscode": {
     "languageId": "r"
    }
   },
   "outputs": [
    {
     "data": {
      "text/html": [
       "<table class=\"dataframe\">\n",
       "<caption>A data.frame: 6 × 7</caption>\n",
       "<thead>\n",
       "\t<tr><th></th><th scope=col>LHS</th><th scope=col>RHS</th><th scope=col>support</th><th scope=col>confidence</th><th scope=col>coverage</th><th scope=col>lift</th><th scope=col>count</th></tr>\n",
       "\t<tr><th></th><th scope=col>&lt;fct&gt;</th><th scope=col>&lt;fct&gt;</th><th scope=col>&lt;dbl&gt;</th><th scope=col>&lt;dbl&gt;</th><th scope=col>&lt;dbl&gt;</th><th scope=col>&lt;dbl&gt;</th><th scope=col>&lt;int&gt;</th></tr>\n",
       "</thead>\n",
       "<tbody>\n",
       "\t<tr><th scope=row>42</th><td>home_confort   </td><td>furniture_decor</td><td>0.0004911591</td><td>0.090909091</td><td>0.00540275</td><td>1.0952125</td><td>1</td></tr>\n",
       "\t<tr><th scope=row>43</th><td>furniture_decor</td><td>home_confort   </td><td>0.0004911591</td><td>0.005917160</td><td>0.08300589</td><td>1.0952125</td><td>1</td></tr>\n",
       "\t<tr><th scope=row>44</th><td>home_confort   </td><td>bed_bath_table </td><td>0.0009823183</td><td>0.181818182</td><td>0.00540275</td><td>1.4292734</td><td>2</td></tr>\n",
       "\t<tr><th scope=row>45</th><td>bed_bath_table </td><td>home_confort   </td><td>0.0009823183</td><td>0.007722008</td><td>0.12721022</td><td>1.4292734</td><td>2</td></tr>\n",
       "\t<tr><th scope=row>46</th><td>stationery     </td><td>toys           </td><td>0.0004911591</td><td>0.025000000</td><td>0.01964637</td><td>0.4007874</td><td>1</td></tr>\n",
       "\t<tr><th scope=row>47</th><td>toys           </td><td>stationery     </td><td>0.0004911591</td><td>0.007874016</td><td>0.06237721</td><td>0.4007874</td><td>1</td></tr>\n",
       "</tbody>\n",
       "</table>\n"
      ],
      "text/latex": [
       "A data.frame: 6 × 7\n",
       "\\begin{tabular}{r|lllllll}\n",
       "  & LHS & RHS & support & confidence & coverage & lift & count\\\\\n",
       "  & <fct> & <fct> & <dbl> & <dbl> & <dbl> & <dbl> & <int>\\\\\n",
       "\\hline\n",
       "\t42 & home\\_confort    & furniture\\_decor & 0.0004911591 & 0.090909091 & 0.00540275 & 1.0952125 & 1\\\\\n",
       "\t43 & furniture\\_decor & home\\_confort    & 0.0004911591 & 0.005917160 & 0.08300589 & 1.0952125 & 1\\\\\n",
       "\t44 & home\\_confort    & bed\\_bath\\_table  & 0.0009823183 & 0.181818182 & 0.00540275 & 1.4292734 & 2\\\\\n",
       "\t45 & bed\\_bath\\_table  & home\\_confort    & 0.0009823183 & 0.007722008 & 0.12721022 & 1.4292734 & 2\\\\\n",
       "\t46 & stationery      & toys            & 0.0004911591 & 0.025000000 & 0.01964637 & 0.4007874 & 1\\\\\n",
       "\t47 & toys            & stationery      & 0.0004911591 & 0.007874016 & 0.06237721 & 0.4007874 & 1\\\\\n",
       "\\end{tabular}\n"
      ],
      "text/markdown": [
       "\n",
       "A data.frame: 6 × 7\n",
       "\n",
       "| <!--/--> | LHS &lt;fct&gt; | RHS &lt;fct&gt; | support &lt;dbl&gt; | confidence &lt;dbl&gt; | coverage &lt;dbl&gt; | lift &lt;dbl&gt; | count &lt;int&gt; |\n",
       "|---|---|---|---|---|---|---|---|\n",
       "| 42 | home_confort    | furniture_decor | 0.0004911591 | 0.090909091 | 0.00540275 | 1.0952125 | 1 |\n",
       "| 43 | furniture_decor | home_confort    | 0.0004911591 | 0.005917160 | 0.08300589 | 1.0952125 | 1 |\n",
       "| 44 | home_confort    | bed_bath_table  | 0.0009823183 | 0.181818182 | 0.00540275 | 1.4292734 | 2 |\n",
       "| 45 | bed_bath_table  | home_confort    | 0.0009823183 | 0.007722008 | 0.12721022 | 1.4292734 | 2 |\n",
       "| 46 | stationery      | toys            | 0.0004911591 | 0.025000000 | 0.01964637 | 0.4007874 | 1 |\n",
       "| 47 | toys            | stationery      | 0.0004911591 | 0.007874016 | 0.06237721 | 0.4007874 | 1 |\n",
       "\n"
      ],
      "text/plain": [
       "   LHS             RHS             support      confidence  coverage  \n",
       "42 home_confort    furniture_decor 0.0004911591 0.090909091 0.00540275\n",
       "43 furniture_decor home_confort    0.0004911591 0.005917160 0.08300589\n",
       "44 home_confort    bed_bath_table  0.0009823183 0.181818182 0.00540275\n",
       "45 bed_bath_table  home_confort    0.0009823183 0.007722008 0.12721022\n",
       "46 stationery      toys            0.0004911591 0.025000000 0.01964637\n",
       "47 toys            stationery      0.0004911591 0.007874016 0.06237721\n",
       "   lift      count\n",
       "42 1.0952125 1    \n",
       "43 1.0952125 1    \n",
       "44 1.4292734 2    \n",
       "45 1.4292734 2    \n",
       "46 0.4007874 1    \n",
       "47 0.4007874 1    "
      ]
     },
     "metadata": {},
     "output_type": "display_data"
    }
   ],
   "source": [
    "head(bw)"
   ]
  },
  {
   "cell_type": "code",
   "execution_count": null,
   "id": "8da690b4",
   "metadata": {
    "vscode": {
     "languageId": "r"
    }
   },
   "outputs": [],
   "source": []
  }
 ],
 "metadata": {
  "hide_input": false,
  "kernelspec": {
   "display_name": "R",
   "language": "R",
   "name": "ir"
  },
  "language_info": {
   "codemirror_mode": "r",
   "file_extension": ".r",
   "mimetype": "text/x-r-source",
   "name": "R",
   "pygments_lexer": "r",
   "version": "4.1.3"
  }
 },
 "nbformat": 4,
 "nbformat_minor": 5
}
