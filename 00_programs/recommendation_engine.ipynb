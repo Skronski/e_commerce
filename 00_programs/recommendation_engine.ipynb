{
 "cells": [
  {
   "cell_type": "markdown",
   "metadata": {},
   "source": [
    "# Recommendation engine\n",
    "\n",
    "- We have limited information about client. There are two posible scenarios: logged and not logged in customer.  \n",
    "Information that we have as an input for logged in customer:  \n",
    "&nbsp;&nbsp;1. three favourite categories  \n",
    "&nbsp;&nbsp;2. geolocation (City, State)  \n",
    "&nbsp;&nbsp;3. as a hidden information we have loggin in date\n",
    "- as an output we want to have 10 products\n",
    "\n"
   ]
  },
  {
   "cell_type": "markdown",
   "metadata": {},
   "source": [
    "# Brainstorm\n",
    "1. Simple approach as the first engine.\n",
    "- Statistical apporach:\n",
    "    - Recommend one expensive, one cheap and one random product with good reviews from each category and a top seller from past month .\n",
    "    - For not logged in customers take 3 most popular categories and perform same logic.\n",
    "2. More advanced ideas:\n",
    "    - perform k-means algorithm\n",
    "    - a-priori approach\n",
    "    - machine learing clasiffication model \n",
    "\n"
   ]
  },
  {
   "cell_type": "code",
   "execution_count": 3,
   "metadata": {},
   "outputs": [
    {
     "name": "stderr",
     "output_type": "stream",
     "text": [
      "/var/folders/x6/rxsvgv111hdbbw87nfynfs840000gn/T/ipykernel_1962/2129575980.py:2: DeprecationWarning: \n",
      "Pyarrow will become a required dependency of pandas in the next major release of pandas (pandas 3.0),\n",
      "(to allow more performant data types, such as the Arrow string type, and better interoperability with other libraries)\n",
      "but was not found to be installed on your system.\n",
      "If this would cause problems for you,\n",
      "please provide us feedback at https://github.com/pandas-dev/pandas/issues/54466\n",
      "        \n",
      "  import pandas as pd\n"
     ]
    },
    {
     "name": "stdout",
     "output_type": "stream",
     "text": [
      "The /Users/skronski/Documents/Projects/e_commerce/00_programs exists already.\n",
      "The /Users/skronski/Documents/Projects/e_commerce/01_input exists already.\n",
      "The /Users/skronski/Documents/Projects/e_commerce/02_output exists already.\n",
      "The /Users/skronski/Documents/Projects/e_commerce/03_temporary exists already.\n",
      "['/Users/skronski/Documents/Projects/e_commerce/01_input/olist_sellers_dataset.csv', '/Users/skronski/Documents/Projects/e_commerce/01_input/product_category_name_translation.csv', '/Users/skronski/Documents/Projects/e_commerce/01_input/olist_orders_dataset.csv', '/Users/skronski/Documents/Projects/e_commerce/01_input/olist_order_items_dataset.csv', '/Users/skronski/Documents/Projects/e_commerce/01_input/olist_customers_dataset.csv', '/Users/skronski/Documents/Projects/e_commerce/01_input/olist_geolocation_dataset.csv', '/Users/skronski/Documents/Projects/e_commerce/01_input/olist_order_payments_dataset.csv', '/Users/skronski/Documents/Projects/e_commerce/01_input/olist_order_reviews_dataset.csv', '/Users/skronski/Documents/Projects/e_commerce/01_input/olist_products_dataset.csv']\n"
     ]
    }
   ],
   "source": [
    "import sys\n",
    "import pandas as pd\n",
    "import matplotlib.pyplot as plt\n",
    "import seaborn as sns\n",
    "import numpy as np\n",
    "\n",
    "pd.options.display.max_rows = 3\n",
    "\n",
    "sys.path.append(\"/Users/skronski/Documents/Projects/e_commerce/00_programs\")\n",
    "from directories import directories_path_setup\n",
    "from directories import update_gitignore\n",
    "from directories import reading_files\n",
    "\n",
    "directories = directories_path_setup(\n",
    "    \"e_commerce\", \"/Users/skronski/Documents/Projects/\"\n",
    ")\n",
    "files_dict = reading_files(directories)\n",
    "\n",
    "olist_sellers_dataset = files_dict[\"olist_sellers_dataset\"]\n",
    "product_category_name_translation = files_dict[\"product_category_name_translation\"]\n",
    "olist_orders_dataset = files_dict[\"olist_orders_dataset\"]\n",
    "olist_order_items_dataset = files_dict[\"olist_order_items_dataset\"]\n",
    "olist_customers_dataset = files_dict[\"olist_customers_dataset\"]\n",
    "olist_order_payments_dataset = files_dict[\"olist_order_payments_dataset\"]\n",
    "olist_order_reviews_dataset = files_dict[\"olist_order_reviews_dataset\"]\n",
    "olist_products_dataset = files_dict[\"olist_products_dataset\"]\n",
    "olist_geolocation_dataset = files_dict[\"olist_geolocation_dataset\"]"
   ]
  },
  {
   "cell_type": "markdown",
   "metadata": {},
   "source": [
    "- Input structure a tuple od two tuples:   \n",
    "   \n",
    " ((`favourite_cateogry_1`, `favourite_cateogry_2`, `favourite_cateogry_3`, (`customer_city`, `customer_state`))  \n",
    "   \n",
    "- outpus structure a tupe od 10 products:  \n",
    "   \n",
    "(`product_1`, `product_2`, ... ,`product_10`)"
   ]
  },
  {
   "cell_type": "markdown",
   "metadata": {},
   "source": [
    "# Use case  \n",
    "- user 1: (cama_mesa_banho, papelaria, fashion_calcados), (sao paulo, SP)  \n",
    "- user 2: (esporte_lazer, moveis_decoracao, telefonia), (rio de janeiro, RJ)  \n",
    "- user not logged in: (), ()  "
   ]
  },
  {
   "cell_type": "code",
   "execution_count": 4,
   "metadata": {},
   "outputs": [
    {
     "name": "stdout",
     "output_type": "stream",
     "text": [
      "User 1:\n",
      "User's favorite categories:\n",
      "1. cama_mesa_banho\n",
      "2. papelaria\n",
      "3. fashion_calcados\n",
      "User's location:\n",
      "City: sao paulo\n",
      "State: SP\n",
      "\n",
      "User 2:\n",
      "User's favorite categories:\n",
      "1. esporte_lazer\n",
      "2. moveis_decoracao\n",
      "3. telefonia\n",
      "User's location:\n",
      "City: rio de janeiro\n",
      "State: RJ\n",
      "\n",
      "User not logged in:\n",
      "User not logged in.\n"
     ]
    }
   ],
   "source": [
    "def process_user_info(user_info):\n",
    "    if not user_info[0]:  # Check if user is not logged in\n",
    "        print(\"User not logged in.\")\n",
    "        return\n",
    "\n",
    "    # Unpack user information\n",
    "    categories = user_info[0]\n",
    "    location = user_info[1]\n",
    "\n",
    "    # Print user's favorite categories\n",
    "    print(\"User's favorite categories:\")\n",
    "    for i, category in enumerate(categories, start=1):\n",
    "        print(f\"{i}. {category}\")\n",
    "\n",
    "    # Print user's location\n",
    "    print(\"User's location:\")\n",
    "    print(f\"City: {location[0]}\")\n",
    "    print(f\"State: {location[1]}\")\n",
    "\n",
    "\n",
    "# Define user information as tuples\n",
    "user1 = ((\"cama_mesa_banho\", \"papelaria\", \"fashion_calcados\"), (\"sao paulo\", \"SP\"))\n",
    "user2 = ((\"esporte_lazer\", \"moveis_decoracao\", \"telefonia\"), (\"rio de janeiro\", \"RJ\"))\n",
    "user_not_logged_in = ((), ())\n",
    "\n",
    "# Process each user's information\n",
    "print(\"User 1:\")\n",
    "process_user_info(user1)\n",
    "\n",
    "print(\"\\nUser 2:\")\n",
    "process_user_info(user2)\n",
    "\n",
    "print(\"\\nUser not logged in:\")\n",
    "process_user_info(user_not_logged_in)"
   ]
  },
  {
   "cell_type": "code",
   "execution_count": null,
   "metadata": {},
   "outputs": [],
   "source": []
  }
 ],
 "metadata": {
  "kernelspec": {
   "display_name": "Python 3",
   "language": "python",
   "name": "python3"
  },
  "language_info": {
   "codemirror_mode": {
    "name": "ipython",
    "version": 3
   },
   "file_extension": ".py",
   "mimetype": "text/x-python",
   "name": "python",
   "nbconvert_exporter": "python",
   "pygments_lexer": "ipython3",
   "version": "3.9.6"
  }
 },
 "nbformat": 4,
 "nbformat_minor": 2
}
